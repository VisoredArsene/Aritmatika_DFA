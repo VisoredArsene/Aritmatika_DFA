{
 "cells": [
  {
   "cell_type": "code",
   "execution_count": 62,
   "id": "9ea86e2f-fc6b-48c3-ace3-fcc395a239c2",
   "metadata": {},
   "outputs": [
    {
     "name": "stdout",
     "output_type": "stream",
     "text": [
      "Hasil: 50.1\n",
      "Diterima\n"
     ]
    }
   ],
   "source": [
    "dfa = {\n",
    "    'q0': {'digit': 'q1'},\n",
    "    'q1': {'digit': 'q1', 'decimal': 'q3', 'operator': 'q4'},\n",
    "    'q3': {'digit': 'q5'},\n",
    "    'q4': {'digit': 'q6'},\n",
    "    'q5': {'digit': 'q5', 'operator': 'q4'},\n",
    "    'q6': {'digit': 'q6', 'decimal': 'q7'},\n",
    "    'q7': {'digit': 'q7','decimal':'q8'},\n",
    "    'q8': {'digit': 'q8'}\n",
    "}\n",
    "\n",
    "state_diterima = {'q6', 'q7'}\n",
    "\n",
    "state_awal = 'q0'\n",
    "\n",
    "file = open(\"input.txt\", \"r\")\n",
    "input_pertanyaan = file.read()    \n",
    "\n",
    "for char in input_pertanyaan:\n",
    "    if char.isdigit():\n",
    "        char_type = 'digit'\n",
    "    elif char == '.':\n",
    "        char_type = 'decimal'\n",
    "    elif char.isalpha():\n",
    "        char_type = 'alpha'\n",
    "    else:\n",
    "        char_type = 'operator'\n",
    "    if char_type not in dfa[state_awal]:\n",
    "        break\n",
    "    state_awal = dfa[state_awal][char_type]\n",
    "\n",
    "if state_awal in state_diterima:\n",
    "    hasilInput = eval(input_pertanyaan)\n",
    "    print(\"Hasil:\", hasilInput)\n",
    "    print(\"Diterima\")\n",
    "else:\n",
    "    print(\"Ditolak\")\n"
   ]
  },
  {
   "cell_type": "code",
   "execution_count": null,
   "id": "ad755a0a-0429-499c-b2da-b578a6794818",
   "metadata": {},
   "outputs": [],
   "source": []
  },
  {
   "cell_type": "code",
   "execution_count": null,
   "id": "d94f8d84-eab8-4c20-84eb-223e0efedf85",
   "metadata": {},
   "outputs": [],
   "source": []
  },
  {
   "cell_type": "code",
   "execution_count": null,
   "id": "5a131b85-39e8-4f2c-8b15-47dcf2a6ed95",
   "metadata": {},
   "outputs": [],
   "source": []
  }
 ],
 "metadata": {
  "kernelspec": {
   "display_name": "Python 3 (ipykernel)",
   "language": "python",
   "name": "python3"
  },
  "language_info": {
   "codemirror_mode": {
    "name": "ipython",
    "version": 3
   },
   "file_extension": ".py",
   "mimetype": "text/x-python",
   "name": "python",
   "nbconvert_exporter": "python",
   "pygments_lexer": "ipython3",
   "version": "3.9.13"
  }
 },
 "nbformat": 4,
 "nbformat_minor": 5
}
